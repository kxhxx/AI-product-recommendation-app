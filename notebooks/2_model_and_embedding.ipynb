{
 "cells": [
  {
   "cell_type": "code",
   "execution_count": 1,
   "id": "d490ac9f-2a8b-48ed-b0d8-1cdd6f909fa5",
   "metadata": {},
   "outputs": [
    {
     "name": "stdout",
     "output_type": "stream",
     "text": [
      "Libraries imported successfully.\n"
     ]
    }
   ],
   "source": [
    "# Cell 1: Import Libraries\n",
    "import pandas as pd\n",
    "from sentence_transformers import SentenceTransformer\n",
    "from pinecone import Pinecone\n",
    "import torch\n",
    "from tqdm.auto import tqdm # For a progress bar\n",
    "\n",
    "print(\"Libraries imported successfully.\")"
   ]
  },
  {
   "cell_type": "code",
   "execution_count": 2,
   "id": "ba3e3b89-fab6-4e67-9e43-b62178a15d92",
   "metadata": {},
   "outputs": [
    {
     "name": "stdout",
     "output_type": "stream",
     "text": [
      "Using device: cpu\n"
     ]
    },
    {
     "name": "stderr",
     "output_type": "stream",
     "text": [
      "Using a slow image processor as `use_fast` is unset and a slow processor was saved with this model. `use_fast=True` will be the default behavior in v4.52, even if the model was saved with a slow processor. This will result in minor differences in outputs. You'll still be able to use a slow processor with `use_fast=False`.\n"
     ]
    },
    {
     "name": "stdout",
     "output_type": "stream",
     "text": [
      "CLIP model loaded successfully.\n"
     ]
    }
   ],
   "source": [
    "# Cell 2: Initialize Models and Pinecone\n",
    "# --- IMPORTANT ---\n",
    "# Replace with your actual Pinecone API Key and Environment\n",
    "PINECONE_API_KEY = \"pcsk_4vgmFt_4ABagzHLAoEzjBmZX1VoEPZZDGJUZ6wNnoiNDkRCT6s32h6fRQyWpSH35LJGqdu\"\n",
    "PINECONE_ENVIRONMENT = \"us-east-1\"\n",
    "PINECONE_INDEX_NAME = \"product-recommendations\"\n",
    "\n",
    "# Initialize Pinecone\n",
    "pc = Pinecone(api_key=PINECONE_API_KEY)\n",
    "\n",
    "# Connect to the index\n",
    "index = pc.Index(PINECONE_INDEX_NAME)\n",
    "\n",
    "# Check device\n",
    "device = \"cuda\" if torch.cuda.is_available() else \"cpu\"\n",
    "print(f\"Using device: {device}\")\n",
    "\n",
    "# Load the multi-modal CLIP model\n",
    "# This model can embed both text and images into the same vector space.\n",
    "# --- UPDATED CODE ---\n",
    "# Define the path to the folder where you saved the model\n",
    "# The '../' means 'go up one directory' from our current 'notebooks' folder\n",
    "local_model_path = \"../local_models/clip-ViT-B-32\"\n",
    "\n",
    "# Load the model from the local directory\n",
    "model = SentenceTransformer(local_model_path, device=device)\n",
    "\n",
    "print(\"CLIP model loaded successfully.\")"
   ]
  },
  {
   "cell_type": "code",
   "execution_count": 3,
   "id": "326e812c-03db-4e92-8fd3-07e4875e90b3",
   "metadata": {},
   "outputs": [
    {
     "name": "stdout",
     "output_type": "stream",
     "text": [
      "Cleaned dataset loaded.\n"
     ]
    },
    {
     "data": {
      "text/html": [
       "<div>\n",
       "<style scoped>\n",
       "    .dataframe tbody tr th:only-of-type {\n",
       "        vertical-align: middle;\n",
       "    }\n",
       "\n",
       "    .dataframe tbody tr th {\n",
       "        vertical-align: top;\n",
       "    }\n",
       "\n",
       "    .dataframe thead th {\n",
       "        text-align: right;\n",
       "    }\n",
       "</style>\n",
       "<table border=\"1\" class=\"dataframe\">\n",
       "  <thead>\n",
       "    <tr style=\"text-align: right;\">\n",
       "      <th></th>\n",
       "      <th>title</th>\n",
       "      <th>brand</th>\n",
       "      <th>description</th>\n",
       "      <th>price</th>\n",
       "      <th>categories</th>\n",
       "      <th>images</th>\n",
       "      <th>manufacturer</th>\n",
       "      <th>package_dimensions</th>\n",
       "      <th>country_of_origin</th>\n",
       "      <th>material</th>\n",
       "      <th>color</th>\n",
       "      <th>uniq_id</th>\n",
       "    </tr>\n",
       "  </thead>\n",
       "  <tbody>\n",
       "    <tr>\n",
       "      <th>0</th>\n",
       "      <td>GOYMFK 1pc Free Standing Shoe Rack, Multi-laye...</td>\n",
       "      <td>GOYMFK</td>\n",
       "      <td>multiple shoes, coats, hats, and other items E...</td>\n",
       "      <td>24.99</td>\n",
       "      <td>['Home &amp; Kitchen', 'Storage &amp; Organization', '...</td>\n",
       "      <td>['https://m.media-amazon.com/images/I/416WaLx1...</td>\n",
       "      <td>GOYMFK</td>\n",
       "      <td>2.36\"D x 7.87\"W x 21.6\"H</td>\n",
       "      <td>China</td>\n",
       "      <td>Metal</td>\n",
       "      <td>White</td>\n",
       "      <td>02593e81-5c09-5069-8516-b0b29f439ded</td>\n",
       "    </tr>\n",
       "    <tr>\n",
       "      <th>1</th>\n",
       "      <td>Plant Repotting Mat MUYETOL Waterproof Transpl...</td>\n",
       "      <td>MUYETOL</td>\n",
       "      <td>N/A</td>\n",
       "      <td>5.98</td>\n",
       "      <td>['Patio, Lawn &amp; Garden', 'Outdoor Décor', 'Doo...</td>\n",
       "      <td>['https://m.media-amazon.com/images/I/41RgefVq...</td>\n",
       "      <td>MUYETOL</td>\n",
       "      <td>26.8\"L x 26.8\"W</td>\n",
       "      <td>N/A</td>\n",
       "      <td>Polyethylene</td>\n",
       "      <td>Green</td>\n",
       "      <td>b2ede786-3f51-5a45-9a5b-bcf856958cd8</td>\n",
       "    </tr>\n",
       "    <tr>\n",
       "      <th>2</th>\n",
       "      <td>Pickleball Doormat, Welcome Doormat Absorbent ...</td>\n",
       "      <td>VEWETOL</td>\n",
       "      <td>The decorative doormat features a subtle textu...</td>\n",
       "      <td>13.99</td>\n",
       "      <td>['Patio, Lawn &amp; Garden', 'Outdoor Décor', 'Doo...</td>\n",
       "      <td>['https://m.media-amazon.com/images/I/61vz1Igl...</td>\n",
       "      <td>Contrence</td>\n",
       "      <td>24\"L x 16\"W</td>\n",
       "      <td>N/A</td>\n",
       "      <td>Rubber</td>\n",
       "      <td>A5589</td>\n",
       "      <td>8fd9377b-cfa6-5f10-835c-6b8eca2816b5</td>\n",
       "    </tr>\n",
       "    <tr>\n",
       "      <th>3</th>\n",
       "      <td>JOIN IRON Foldable TV Trays for Eating Set of ...</td>\n",
       "      <td>JOIN IRON Store</td>\n",
       "      <td>Set of Four Folding Trays With Matching Storag...</td>\n",
       "      <td>89.99</td>\n",
       "      <td>['Home &amp; Kitchen', 'Furniture', 'Game &amp; Recrea...</td>\n",
       "      <td>['https://m.media-amazon.com/images/I/41p4d4VJ...</td>\n",
       "      <td>N/A</td>\n",
       "      <td>18.9\"D x 14.2\"W x 26\"H</td>\n",
       "      <td>N/A</td>\n",
       "      <td>Iron</td>\n",
       "      <td>Grey Set of 4</td>\n",
       "      <td>bdc9aa30-9439-50dc-8e89-213ea211d66a</td>\n",
       "    </tr>\n",
       "    <tr>\n",
       "      <th>4</th>\n",
       "      <td>Folews Bathroom Organizer Over The Toilet Stor...</td>\n",
       "      <td>Folews Store</td>\n",
       "      <td>N/A</td>\n",
       "      <td>63.99</td>\n",
       "      <td>['Home &amp; Kitchen', 'Furniture', 'Bathroom Furn...</td>\n",
       "      <td>['https://m.media-amazon.com/images/I/41ixgM73...</td>\n",
       "      <td>Folews</td>\n",
       "      <td>12.6\"D x 25.2\"W x 68.5\"H</td>\n",
       "      <td>China</td>\n",
       "      <td>N/A</td>\n",
       "      <td>N/A</td>\n",
       "      <td>aba4138e-6401-52ca-a099-02e30b638db4</td>\n",
       "    </tr>\n",
       "  </tbody>\n",
       "</table>\n",
       "</div>"
      ],
      "text/plain": [
       "                                               title            brand  \\\n",
       "0  GOYMFK 1pc Free Standing Shoe Rack, Multi-laye...           GOYMFK   \n",
       "1  Plant Repotting Mat MUYETOL Waterproof Transpl...          MUYETOL   \n",
       "2  Pickleball Doormat, Welcome Doormat Absorbent ...          VEWETOL   \n",
       "3  JOIN IRON Foldable TV Trays for Eating Set of ...  JOIN IRON Store   \n",
       "4  Folews Bathroom Organizer Over The Toilet Stor...     Folews Store   \n",
       "\n",
       "                                         description  price  \\\n",
       "0  multiple shoes, coats, hats, and other items E...  24.99   \n",
       "1                                                N/A   5.98   \n",
       "2  The decorative doormat features a subtle textu...  13.99   \n",
       "3  Set of Four Folding Trays With Matching Storag...  89.99   \n",
       "4                                                N/A  63.99   \n",
       "\n",
       "                                          categories  \\\n",
       "0  ['Home & Kitchen', 'Storage & Organization', '...   \n",
       "1  ['Patio, Lawn & Garden', 'Outdoor Décor', 'Doo...   \n",
       "2  ['Patio, Lawn & Garden', 'Outdoor Décor', 'Doo...   \n",
       "3  ['Home & Kitchen', 'Furniture', 'Game & Recrea...   \n",
       "4  ['Home & Kitchen', 'Furniture', 'Bathroom Furn...   \n",
       "\n",
       "                                              images manufacturer  \\\n",
       "0  ['https://m.media-amazon.com/images/I/416WaLx1...       GOYMFK   \n",
       "1  ['https://m.media-amazon.com/images/I/41RgefVq...      MUYETOL   \n",
       "2  ['https://m.media-amazon.com/images/I/61vz1Igl...    Contrence   \n",
       "3  ['https://m.media-amazon.com/images/I/41p4d4VJ...          N/A   \n",
       "4  ['https://m.media-amazon.com/images/I/41ixgM73...       Folews   \n",
       "\n",
       "         package_dimensions country_of_origin      material          color  \\\n",
       "0  2.36\"D x 7.87\"W x 21.6\"H             China         Metal          White   \n",
       "1           26.8\"L x 26.8\"W               N/A  Polyethylene          Green   \n",
       "2               24\"L x 16\"W               N/A        Rubber          A5589   \n",
       "3    18.9\"D x 14.2\"W x 26\"H               N/A          Iron  Grey Set of 4   \n",
       "4  12.6\"D x 25.2\"W x 68.5\"H             China           N/A            N/A   \n",
       "\n",
       "                                uniq_id  \n",
       "0  02593e81-5c09-5069-8516-b0b29f439ded  \n",
       "1  b2ede786-3f51-5a45-9a5b-bcf856958cd8  \n",
       "2  8fd9377b-cfa6-5f10-835c-6b8eca2816b5  \n",
       "3  bdc9aa30-9439-50dc-8e89-213ea211d66a  \n",
       "4  aba4138e-6401-52ca-a099-02e30b638db4  "
      ]
     },
     "execution_count": 3,
     "metadata": {},
     "output_type": "execute_result"
    }
   ],
   "source": [
    "# Cell 3: Load the Cleaned Dataset\n",
    "# We use the cleaned dataset we saved in the previous notebook.\n",
    "df = pd.read_csv('cleaned_dataset.csv')\n",
    "\n",
    "# Let's fill any remaining NaNs in object columns just in case\n",
    "for col in df.select_dtypes(include='object').columns:\n",
    "    df[col] = df[col].fillna('N/A')\n",
    "\n",
    "print(\"Cleaned dataset loaded.\")\n",
    "df.head()"
   ]
  },
  {
   "cell_type": "code",
   "execution_count": 5,
   "id": "1d86acd5-90c0-494a-9d13-a5e944018e1c",
   "metadata": {},
   "outputs": [
    {
     "name": "stdout",
     "output_type": "stream",
     "text": [
      "Total rows in the cleaned dataframe: 215\n",
      "Processing a sample of 215 products.\n"
     ]
    }
   ],
   "source": [
    "# Cell 4: Prepare Data for Upsert\n",
    "# Reasoning: We create a 'combined_text' field to generate a rich embedding.\n",
    "# The metadata will store crucial product information that we want to retrieve\n",
    "# along with the vector during a search query.\n",
    "\n",
    "df['combined_text'] = (\n",
    "    \"Title: \" + df['title'] + \". \" +\n",
    "    \"Brand: \" + df['brand'] + \". \" +\n",
    "    \"Description: \" + df['description'].str.slice(0, 200) + \". \" + # Truncate long descriptions\n",
    "    \"Material: \" + df['material'] + \". \" +\n",
    "    \"Color: \" + df['color'] + \".\"\n",
    ")\n",
    "\n",
    "# First, let's see how many rows we actually have\n",
    "print(f\"Total rows in the cleaned dataframe: {len(df)}\")\n",
    "\n",
    "# Now, sample the smaller of 2000 or the total length of the dataframe\n",
    "sample_size = min(2000, len(df))\n",
    "df_sample = df.sample(n=sample_size, random_state=42)\n",
    "\n",
    "print(f\"Processing a sample of {len(df_sample)} products.\")"
   ]
  },
  {
   "cell_type": "code",
   "execution_count": 6,
   "id": "f8339e4f-06e0-4331-83c7-324d0599d798",
   "metadata": {},
   "outputs": [
    {
     "data": {
      "application/vnd.jupyter.widget-view+json": {
       "model_id": "6e4eb11f87a84cecb5d2df8de44d2810",
       "version_major": 2,
       "version_minor": 0
      },
      "text/plain": [
       "  0%|          | 0/4 [00:00<?, ?it/s]"
      ]
     },
     "metadata": {},
     "output_type": "display_data"
    },
    {
     "name": "stdout",
     "output_type": "stream",
     "text": [
      "\n",
      "Upsert to Pinecone complete.\n",
      "Pinecone index stats: {'dimension': 512,\n",
      " 'index_fullness': 0.0,\n",
      " 'metric': 'cosine',\n",
      " 'namespaces': {'': {'vector_count': 210}},\n",
      " 'total_vector_count': 210,\n",
      " 'vector_type': 'dense'}\n"
     ]
    }
   ],
   "source": [
    "# Cell 5: Generate Embeddings and Upsert to Pinecone in Batches\n",
    "# Reasoning: Upserting in batches is much more efficient than one by one.\n",
    "\n",
    "batch_size = 64\n",
    "for i in tqdm(range(0, len(df_sample), batch_size)):\n",
    "    # Get the current batch\n",
    "    i_end = min(i + batch_size, len(df_sample))\n",
    "    batch = df_sample.iloc[i:i_end]\n",
    "\n",
    "    # Get unique IDs for the batch\n",
    "    ids = [str(x) for x in batch['uniq_id']]\n",
    "\n",
    "    # Create text embeddings\n",
    "    texts = batch['combined_text'].tolist()\n",
    "    text_embeddings = model.encode(texts).tolist()\n",
    "\n",
    "    # Prepare metadata\n",
    "    metadata = []\n",
    "    for idx, row in batch.iterrows():\n",
    "        meta = {\n",
    "            'title': row['title'],\n",
    "            'brand': row['brand'],\n",
    "            'price': row['price'],\n",
    "            'description': row['description'],\n",
    "            'image_url': row['images'].split(',')[0] if isinstance(row['images'], str) else '', # Get first image URL\n",
    "            'material': row['material'],\n",
    "            'color': row['color']\n",
    "        }\n",
    "        metadata.append(meta)\n",
    "\n",
    "    # Prepare records for upsert\n",
    "    records_to_upsert = zip(ids, text_embeddings, metadata)\n",
    "\n",
    "    # Upsert to Pinecone\n",
    "    index.upsert(vectors=list(records_to_upsert))\n",
    "\n",
    "print(\"\\nUpsert to Pinecone complete.\")\n",
    "print(f\"Pinecone index stats: {index.describe_index_stats()}\")"
   ]
  },
  {
   "cell_type": "code",
   "execution_count": null,
   "id": "f3ad619d-359f-4d71-8448-c1c1d28e465d",
   "metadata": {},
   "outputs": [],
   "source": []
  }
 ],
 "metadata": {
  "kernelspec": {
   "display_name": "Python 3 (ipykernel)",
   "language": "python",
   "name": "python3"
  },
  "language_info": {
   "codemirror_mode": {
    "name": "ipython",
    "version": 3
   },
   "file_extension": ".py",
   "mimetype": "text/x-python",
   "name": "python",
   "nbconvert_exporter": "python",
   "pygments_lexer": "ipython3",
   "version": "3.11.0"
  }
 },
 "nbformat": 4,
 "nbformat_minor": 5
}
